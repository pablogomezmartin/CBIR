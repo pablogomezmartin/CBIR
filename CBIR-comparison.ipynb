{
 "cells": [
  {
   "cell_type": "markdown",
   "metadata": {},
   "source": [
    "<font color=\"#506F87\" size=5.5><b>Comparación de los métodos empleados</b></font>\n",
    "<br>\n",
    "En este notebook se va a llevar a cabo la comparación de rendimiento en términos computacionales y de resultados de los distintos métodos y distancias empleadas. Esto incluye:\n",
    "1. SIFT\n",
    "2. ORB\n",
    "3. VGG-16 (con norma euclídea y del coseno)\n",
    "4. Histograma de color (con norma euclídea y del coseno)\n",
    "5. Bag of words\n",
    "\n",
    "<font color=\"#506F87\" size=4.5><b>Autores</b></font>\n",
    "- Mario Serrano Sanchéz\n",
    "- Pablo Gómez Martín\n",
    "- Cristina Sandoval Nuño\n",
    "- Gonzalo Rivera del Pino"
   ]
  },
  {
   "cell_type": "markdown",
   "metadata": {},
   "source": [
    "<font color=\"#506F87\" size=5.5><b>Librerías</b></font>"
   ]
  },
  {
   "cell_type": "code",
   "execution_count": 1,
   "metadata": {},
   "outputs": [],
   "source": [
    "import random\n",
    "from time import time\n",
    "import pandas as pd\n",
    "from torchvision import models\n",
    "\n",
    "from retrieval_functions import correct_percentage, return_n_nearest_CNN, return_n_nearest_hist\n",
    "from retrieval_functions import return_n_nearest_ORB, return_n_nearest_SIFT, return_n_nearest_bow"
   ]
  },
  {
   "cell_type": "markdown",
   "metadata": {},
   "source": [
    "## <font color=\"#506F87\" size=5.5><b>Cargamos el dataset con las features</b></font>"
   ]
  },
  {
   "cell_type": "code",
   "execution_count": 2,
   "metadata": {},
   "outputs": [],
   "source": [
    "df_images = pd.read_pickle('Images_df.pkl', compression={'method': 'gzip', 'compresslevel': 3, 'mtime': 1})\n",
    "df_features = pd.read_pickle('Features_df.pkl', compression={'method': 'gzip', 'compresslevel': 3, 'mtime': 1})\n",
    "\n",
    "df = pd.concat([df_images, df_features], axis=1)"
   ]
  },
  {
   "cell_type": "code",
   "execution_count": 3,
   "metadata": {},
   "outputs": [],
   "source": [
    "class_names = df.label.unique()"
   ]
  },
  {
   "cell_type": "markdown",
   "metadata": {},
   "source": [
    "## <font color=\"#506F87\" size=5.5><b>Comparación</b></font>"
   ]
  },
  {
   "cell_type": "code",
   "execution_count": 4,
   "metadata": {},
   "outputs": [],
   "source": [
    "model = models.vgg16(weights='DEFAULT')"
   ]
  },
  {
   "cell_type": "code",
   "execution_count": null,
   "metadata": {},
   "outputs": [],
   "source": [
    "percentages = [0]*8\n",
    "times = [0]*8\n",
    "functions = [return_n_nearest_SIFT, return_n_nearest_ORB, return_n_nearest_CNN, return_n_nearest_CNN, return_n_nearest_hist, \n",
    "             return_n_nearest_hist, return_n_nearest_bow, return_n_nearest_bow]\n",
    "\n",
    "for label in class_names:\n",
    "\n",
    "    # Para hacer la comparativa usaremos una imagen random de cada clase\n",
    "    query_image = df.iloc[random.choice(df[df.label == label].index), 0]\n",
    "\n",
    "    for i in range(8):\n",
    "        if i==2 or i==3:\n",
    "            if i==2:\n",
    "                time1 = time()\n",
    "                nearest = functions[i](query_image, df, model, norm='euclidean')\n",
    "                percentage =  correct_percentage(label, nearest, df)\n",
    "                time2 = time()\n",
    "            else:\n",
    "                time1 = time()\n",
    "                nearest = functions[i](query_image, df, model, norm='cosine')\n",
    "                percentage =  correct_percentage(label, nearest, df)\n",
    "                time2 = time()\n",
    "        \n",
    "        elif i==5:\n",
    "            time1 = time()\n",
    "            nearest = functions[i](query_image, df, norm='cosine')\n",
    "            percentage =  correct_percentage(label, nearest, df)\n",
    "            time2 = time()\n",
    "        \n",
    "        elif i==7:\n",
    "            time1 = time()\n",
    "            nearest = functions[i](query_image, df, norm='cosine')\n",
    "            percentage =  correct_percentage(label, nearest, df)\n",
    "            time2 = time()\n",
    "        \n",
    "        else:\n",
    "            time1 = time()\n",
    "            nearest = functions[i](query_image, df)\n",
    "            percentage =  correct_percentage(label, nearest, df)\n",
    "            time2 = time()\n",
    "                \n",
    "\n",
    "        times[i] += time2-time1\n",
    "        percentages[i] += percentage\n",
    "    "
   ]
  },
  {
   "cell_type": "code",
   "execution_count": 15,
   "metadata": {},
   "outputs": [
    {
     "data": {
      "text/html": [
       "<div>\n",
       "<style scoped>\n",
       "    .dataframe tbody tr th:only-of-type {\n",
       "        vertical-align: middle;\n",
       "    }\n",
       "\n",
       "    .dataframe tbody tr th {\n",
       "        vertical-align: top;\n",
       "    }\n",
       "\n",
       "    .dataframe thead tr th {\n",
       "        text-align: left;\n",
       "    }\n",
       "</style>\n",
       "<table border=\"1\" class=\"dataframe\">\n",
       "  <thead>\n",
       "    <tr>\n",
       "      <th></th>\n",
       "      <th>SIFT</th>\n",
       "      <th>ORB</th>\n",
       "      <th>CNN (euclidean)</th>\n",
       "      <th>CNN (cosine)</th>\n",
       "      <th>histogram (euclidean)</th>\n",
       "      <th>histogram (cosine)</th>\n",
       "      <th>BOW (euclidean)</th>\n",
       "      <th>BOW (cosine)</th>\n",
       "    </tr>\n",
       "  </thead>\n",
       "  <tbody>\n",
       "    <tr>\n",
       "      <th>Time</th>\n",
       "      <td>3.16</td>\n",
       "      <td>15.23</td>\n",
       "      <td>0.21</td>\n",
       "      <td>0.37</td>\n",
       "      <td>0.03</td>\n",
       "      <td>0.06</td>\n",
       "      <td>0.07</td>\n",
       "      <td>0.07</td>\n",
       "    </tr>\n",
       "    <tr>\n",
       "      <th>Succes rate</th>\n",
       "      <td>16.67 %</td>\n",
       "      <td>16.67 %</td>\n",
       "      <td>49.33 %</td>\n",
       "      <td>64.0 %</td>\n",
       "      <td>13.33 %</td>\n",
       "      <td>14.0 %</td>\n",
       "      <td>32.67 %</td>\n",
       "      <td>38.0 %</td>\n",
       "    </tr>\n",
       "  </tbody>\n",
       "</table>\n",
       "</div>"
      ],
      "text/plain": [
       "                SIFT      ORB  ... BOW (euclidean) BOW (cosine)\n",
       "Time            3.16    15.23  ...            0.07         0.07\n",
       "Succes rate  16.67 %  16.67 %  ...         32.67 %       38.0 %\n",
       "\n",
       "[2 rows x 8 columns]"
      ]
     },
     "execution_count": 15,
     "metadata": {},
     "output_type": "execute_result"
    }
   ],
   "source": [
    "times = [round(t/15, 2) for t in times]\n",
    "percentages = [f'{round(p/15, 2)} %' for p in percentages]\n",
    "methods = ['SIFT', 'ORB', 'CNN (euclidean)', 'CNN (cosine)', 'histogram (euclidean)', 'histogram (cosine)', 'BOW (euclidean)', 'BOW (cosine)']\n",
    "\n",
    "comparison = pd.DataFrame(zip(times, percentages), index=[methods], columns=['Time', 'Succes rate']).T\n",
    "\n",
    "comparison"
   ]
  },
  {
   "cell_type": "code",
   "execution_count": 20,
   "metadata": {},
   "outputs": [],
   "source": [
    "comparison.to_excel('comparison.xlsx')"
   ]
  }
 ],
 "metadata": {
  "kernelspec": {
   "display_name": "Python 3",
   "language": "python",
   "name": "python3"
  },
  "language_info": {
   "codemirror_mode": {
    "name": "ipython",
    "version": 3
   },
   "file_extension": ".py",
   "mimetype": "text/x-python",
   "name": "python",
   "nbconvert_exporter": "python",
   "pygments_lexer": "ipython3",
   "version": "3.10.11"
  }
 },
 "nbformat": 4,
 "nbformat_minor": 2
}
